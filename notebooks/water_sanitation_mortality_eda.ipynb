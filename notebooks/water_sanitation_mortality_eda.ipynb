{
  "cells": [
    {
      "cell_type": "raw",
      "metadata": {
        "vscode": {
          "languageId": "raw"
        }
      },
      "source": [
        "# 안전하지 않은 물, 위생시설 부족으로 인한 사망률 분석\n",
        "\n",
        "## 개요\n",
        "이 노트북은 방글라데시, 인도, 파키스탄의 \"안전하지 않은 물, 위생시설 부족으로 인한 사망률(인구 10만명당)\" 지표를 분석합니다.\n",
        "\n",
        "**지표 정보:**\n",
        "- 지표명: Mortality rate attributed to unsafe water, unsafe sanitation and lack of hygiene (per 100,000 population)\n",
        "- 지표 코드: SH.STA.WASH.P5\n"
      ]
    },
    {
      "cell_type": "code",
      "execution_count": null,
      "metadata": {},
      "outputs": [],
      "source": [
        "# 필요한 라이브러리 import\n",
        "import pandas as pd\n",
        "import numpy as np\n",
        "import matplotlib.pyplot as plt\n",
        "import seaborn as sns\n",
        "from datetime import datetime\n",
        "import warnings\n",
        "warnings.filterwarnings('ignore')\n",
        "\n",
        "# 그래프 설정\n",
        "plt.style.use('default')\n",
        "sns.set_palette(\"husl\")\n",
        "plt.rcParams['figure.figsize'] = (12, 8)\n",
        "plt.rcParams['font.size'] = 10\n",
        "\n",
        "print(\"라이브러리 로드 완료\")\n"
      ]
    },
    {
      "cell_type": "code",
      "execution_count": null,
      "metadata": {},
      "outputs": [],
      "source": [
        "# 데이터 로드\n",
        "df = pd.read_csv('../data/processed/filtered_data.csv')\n",
        "\n",
        "print(f\"전체 데이터 크기: {df.shape}\")\n",
        "print(f\"포함된 국가: {df['Country Name'].unique()}\")\n",
        "print(f\"데이터 기간: {df.columns[4:-1].min()} - {df.columns[4:-1].max()}\")\n"
      ]
    },
    {
      "cell_type": "code",
      "execution_count": null,
      "metadata": {},
      "outputs": [],
      "source": [
        "# 물/위생 관련 사망률 데이터 필터링\n",
        "wash_mortality = df[df['Indicator Code'] == 'SH.STA.WASH.P5'].copy()\n",
        "\n",
        "print(f\"물/위생 사망률 데이터 크기: {wash_mortality.shape}\")\n",
        "print(\"\\n=== 데이터 기본 정보 ===\")\n",
        "print(wash_mortality[['Country Name', 'Indicator Name', 'Indicator Code']].head())\n"
      ]
    },
    {
      "cell_type": "code",
      "execution_count": null,
      "metadata": {},
      "outputs": [],
      "source": [
        "# 연도별 컬럼을 행으로 변환 (melt)\n",
        "year_columns = [col for col in wash_mortality.columns if col.isdigit()]\n",
        "wash_long = wash_mortality.melt(\n",
        "    id_vars=['Country Name', 'Country Code', 'Indicator Name', 'Indicator Code'],\n",
        "    value_vars=year_columns,\n",
        "    var_name='Year',\n",
        "    value_name='Mortality_Rate'\n",
        ")\n",
        "\n",
        "# 데이터 타입 변환\n",
        "wash_long['Year'] = wash_long['Year'].astype(int)\n",
        "wash_long['Mortality_Rate'] = pd.to_numeric(wash_long['Mortality_Rate'], errors='coerce')\n",
        "\n",
        "# 결측값이 아닌 데이터만 필터링\n",
        "wash_clean = wash_long.dropna(subset=['Mortality_Rate']).copy()\n",
        "\n",
        "print(f\"변환된 데이터 크기: {wash_clean.shape}\")\n",
        "print(f\"사용 가능한 연도 범위: {wash_clean['Year'].min()} - {wash_clean['Year'].max()}\")\n"
      ]
    },
    {
      "cell_type": "code",
      "execution_count": null,
      "metadata": {},
      "outputs": [],
      "source": [
        "# 기본 통계 정보\n",
        "print(\"=== 기본 통계 정보 ===\")\n",
        "print(wash_clean['Mortality_Rate'].describe())\n",
        "\n",
        "print(\"\\n=== 국가별 통계 ===\")\n",
        "country_stats = wash_clean.groupby('Country Name')['Mortality_Rate'].agg([\n",
        "    'count', 'mean', 'std', 'min', 'max'\n",
        "]).round(2)\n",
        "print(country_stats)\n"
      ]
    },
    {
      "cell_type": "code",
      "execution_count": null,
      "metadata": {},
      "outputs": [],
      "source": [
        "# 데이터 가용성 분석\n",
        "print(\"=== 연도별 데이터 가용성 ===\")\n",
        "availability = wash_clean.groupby(['Country Name', 'Year']).size().reset_index(name='count')\n",
        "pivot_availability = availability.pivot(index='Year', columns='Country Name', values='count').fillna(0)\n",
        "\n",
        "print(\"각 국가별 연도별 데이터 존재 여부:\")\n",
        "print(pivot_availability.astype(bool).astype(int))\n",
        "\n",
        "# 각 국가별 데이터 기간\n",
        "print(\"\\n=== 국가별 데이터 기간 ===\")\n",
        "for country in wash_clean['Country Name'].unique():\n",
        "    country_data = wash_clean[wash_clean['Country Name'] == country]\n",
        "    print(f\"{country}: {country_data['Year'].min()} - {country_data['Year'].max()} ({len(country_data)}개 데이터포인트)\")\n"
      ]
    },
    {
      "cell_type": "code",
      "execution_count": null,
      "metadata": {},
      "outputs": [],
      "source": [
        "# 시계열 트렌드 시각화\n",
        "plt.figure(figsize=(14, 8))\n",
        "\n",
        "for country in wash_clean['Country Name'].unique():\n",
        "    country_data = wash_clean[wash_clean['Country Name'] == country]\n",
        "    plt.plot(country_data['Year'], country_data['Mortality_Rate'], \n",
        "             marker='o', linewidth=2, markersize=6, label=country)\n",
        "\n",
        "plt.title('안전하지 않은 물/위생으로 인한 사망률 추이\\n(인구 10만명당)', fontsize=16, fontweight='bold')\n",
        "plt.xlabel('연도', fontsize=12)\n",
        "plt.ylabel('사망률 (인구 10만명당)', fontsize=12)\n",
        "plt.legend(fontsize=12)\n",
        "plt.grid(True, alpha=0.3)\n",
        "plt.tight_layout()\n",
        "plt.show()\n",
        "\n",
        "# 최근 5년 평균 계산\n",
        "recent_years = wash_clean[wash_clean['Year'] >= wash_clean['Year'].max() - 4]\n",
        "recent_avg = recent_years.groupby('Country Name')['Mortality_Rate'].mean().sort_values(ascending=False)\n",
        "print(\"\\n=== 최근 5년 평균 사망률 (높은 순) ===\")\n",
        "for country, rate in recent_avg.items():\n",
        "    print(f\"{country}: {rate:.2f}명/10만명\")\n"
      ]
    },
    {
      "cell_type": "code",
      "execution_count": null,
      "metadata": {},
      "outputs": [],
      "source": [
        "# 국가별 박스플롯\n",
        "plt.figure(figsize=(12, 8))\n",
        "sns.boxplot(data=wash_clean, x='Country Name', y='Mortality_Rate')\n",
        "plt.title('국가별 물/위생 사망률 분포', fontsize=16, fontweight='bold')\n",
        "plt.xlabel('국가', fontsize=12)\n",
        "plt.ylabel('사망률 (인구 10만명당)', fontsize=12)\n",
        "plt.xticks(rotation=45)\n",
        "plt.tight_layout()\n",
        "plt.show()\n",
        "\n",
        "# 각 국가의 최고/최저 사망률 연도\n",
        "print(\"=== 각 국가의 최고/최저 사망률 ===\")\n",
        "for country in wash_clean['Country Name'].unique():\n",
        "    country_data = wash_clean[wash_clean['Country Name'] == country]\n",
        "    max_row = country_data.loc[country_data['Mortality_Rate'].idxmax()]\n",
        "    min_row = country_data.loc[country_data['Mortality_Rate'].idxmin()]\n",
        "    \n",
        "    print(f\"\\n{country}:\")\n",
        "    print(f\"  최고: {max_row['Mortality_Rate']:.2f}명/10만명 ({max_row['Year']}년)\")\n",
        "    print(f\"  최저: {min_row['Mortality_Rate']:.2f}명/10만명 ({min_row['Year']}년)\")\n",
        "    print(f\"  개선율: {((max_row['Mortality_Rate'] - min_row['Mortality_Rate']) / max_row['Mortality_Rate'] * 100):.1f}% 감소\")\n"
      ]
    },
    {
      "cell_type": "code",
      "execution_count": null,
      "metadata": {},
      "outputs": [],
      "source": [
        "# 연도별 변화율 분석\n",
        "def calculate_change_rate(group):\n",
        "    group = group.sort_values('Year')\n",
        "    group['Change_Rate'] = group['Mortality_Rate'].pct_change() * 100\n",
        "    return group\n",
        "\n",
        "wash_with_change = wash_clean.groupby('Country Name').apply(calculate_change_rate).reset_index(drop=True)\n",
        "\n",
        "# 변화율 시각화\n",
        "plt.figure(figsize=(14, 8))\n",
        "for country in wash_with_change['Country Name'].unique():\n",
        "    country_data = wash_with_change[wash_with_change['Country Name'] == country]\n",
        "    plt.plot(country_data['Year'], country_data['Change_Rate'], \n",
        "             marker='s', linewidth=2, markersize=5, label=country, alpha=0.8)\n",
        "\n",
        "plt.axhline(y=0, color='black', linestyle='--', alpha=0.5)\n",
        "plt.title('물/위생 사망률 전년 대비 변화율', fontsize=16, fontweight='bold')\n",
        "plt.xlabel('연도', fontsize=12)\n",
        "plt.ylabel('변화율 (%)', fontsize=12)\n",
        "plt.legend(fontsize=12)\n",
        "plt.grid(True, alpha=0.3)\n",
        "plt.tight_layout()\n",
        "plt.show()\n",
        "\n",
        "# 평균 연간 변화율\n",
        "print(\"=== 평균 연간 변화율 ===\")\n",
        "avg_change = wash_with_change.groupby('Country Name')['Change_Rate'].mean().sort_values()\n",
        "for country, rate in avg_change.items():\n",
        "    direction = \"개선\" if rate < 0 else \"악화\"\n",
        "    print(f\"{country}: {rate:.2f}% ({direction})\")\n"
      ]
    },
    {
      "cell_type": "code",
      "execution_count": null,
      "metadata": {},
      "outputs": [],
      "source": [
        "# 히트맵으로 연도별 국가별 사망률 비교\n",
        "pivot_data = wash_clean.pivot(index='Year', columns='Country Name', values='Mortality_Rate')\n",
        "\n",
        "plt.figure(figsize=(10, 12))\n",
        "sns.heatmap(pivot_data, annot=True, fmt='.1f', cmap='Reds', \n",
        "            cbar_kws={'label': '사망률 (인구 10만명당)'})\n",
        "plt.title('연도별 국가별 물/위생 사망률 히트맵', fontsize=16, fontweight='bold')\n",
        "plt.xlabel('국가', fontsize=12)\n",
        "plt.ylabel('연도', fontsize=12)\n",
        "plt.tight_layout()\n",
        "plt.show()\n"
      ]
    },
    {
      "cell_type": "code",
      "execution_count": null,
      "metadata": {},
      "outputs": [],
      "source": []
    },
    {
      "cell_type": "code",
      "execution_count": null,
      "metadata": {},
      "outputs": [],
      "source": []
    }
  ],
  "metadata": {
    "language_info": {
      "name": "python"
    }
  },
  "nbformat": 4,
  "nbformat_minor": 2
}
