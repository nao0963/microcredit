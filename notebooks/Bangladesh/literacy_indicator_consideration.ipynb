{
  "cells": [
    {
      "cell_type": "markdown",
      "metadata": {
        "vscode": {
          "languageId": "raw"
        }
      },
      "source": [
        "# Literacy Indicator Analysis and Exclusion Decision\n",
        "## Bangladesh, India, and Pakistan Long-term Development Study\n",
        "\n",
        "### Background\n",
        "This notebook examines the availability and quality of literacy indicators for Bangladesh, India, and Pakistan in the context of our long-term development analysis. While I consider literacy rates to be  crucial for assessing the impact of microcredit, we need to evaluate their suitability for robust statistical analysis.\n",
        "\n",
        "### Objectives\n",
        "1. Assess the availability of literacy indicators in our dataset\n",
        "2. Evaluate data quality and completeness\n",
        "3. Compare with other available indicators\n",
        "4. Provide justification for inclusion/exclusion decisions\n",
        "5. Suggest alternative approaches for future research\n"
      ]
    },
    {
      "cell_type": "code",
      "execution_count": 1,
      "metadata": {},
      "outputs": [
        {
          "name": "stdout",
          "output_type": "stream",
          "text": [
            "Libraries loaded successfully\n"
          ]
        }
      ],
      "source": [
        "# Import required libraries\n",
        "import pandas as pd\n",
        "import numpy as np\n",
        "import matplotlib.pyplot as plt\n",
        "import seaborn as sns\n",
        "from datetime import datetime\n",
        "import warnings\n",
        "warnings.filterwarnings('ignore')\n",
        "\n",
        "# Set up plotting preferences\n",
        "plt.style.use('default')\n",
        "sns.set_palette(\"Set2\")\n",
        "plt.rcParams['figure.figsize'] = (14, 8)\n",
        "plt.rcParams['font.size'] = 11\n",
        "\n",
        "print(\"Libraries loaded successfully\")\n"
      ]
    },
    {
      "cell_type": "code",
      "execution_count": 5,
      "metadata": {},
      "outputs": [
        {
          "name": "stdout",
          "output_type": "stream",
          "text": [
            "data\t\t    Dockerfile\tmodels\t   README.md  src\n",
            "docker-compose.yml  lib\t\tnotebooks  reports\n"
          ]
        }
      ],
      "source": [
        "!ls work\n"
      ]
    },
    {
      "cell_type": "code",
      "execution_count": 6,
      "metadata": {},
      "outputs": [
        {
          "name": "stdout",
          "output_type": "stream",
          "text": [
            "Dataset shape: (4797, 64)\n",
            "Countries: ['Bangladesh' 'India' 'Pakistan']\n",
            "Total indicators: 1599\n",
            "Year range in dataset: 1960 - 2018\n",
            "Total years available: 59 years\n"
          ]
        }
      ],
      "source": [
        "# Load the filtered dataset\n",
        "df = pd.read_csv('/home/jovyan/work/data/processed/filtered_data.csv')\n",
        "\n",
        "print(f\"Dataset shape: {df.shape}\")\n",
        "print(f\"Countries: {df['Country Name'].unique()}\")\n",
        "print(f\"Total indicators: {df['Indicator Name'].nunique()}\")\n",
        "\n",
        "# Identify year columns\n",
        "year_columns = [col for col in df.columns if col.isdigit()]\n",
        "year_columns = sorted([int(year) for year in year_columns])\n",
        "print(f\"Year range in dataset: {min(year_columns)} - {max(year_columns)}\")\n",
        "print(f\"Total years available: {len(year_columns)} years\")\n"
      ]
    },
    {
      "cell_type": "markdown",
      "metadata": {
        "vscode": {
          "languageId": "raw"
        }
      },
      "source": [
        "## 1. Literacy Indicators Identification\n",
        "\n",
        "First, let's identify all literacy-related indicators available in our dataset.\n"
      ]
    },
    {
      "cell_type": "code",
      "execution_count": 7,
      "metadata": {},
      "outputs": [
        {
          "name": "stdout",
          "output_type": "stream",
          "text": [
            "Found 7 literacy indicators:\n",
            "\n",
            "=== Available Literacy Indicators ===\n",
            "• Literacy rate, adult female (% of females ages 15 and above)\n",
            "  Code: SE.ADT.LITR.FE.ZS\n",
            "\n",
            "• Literacy rate, adult male (% of males ages 15 and above)\n",
            "  Code: SE.ADT.LITR.MA.ZS\n",
            "\n",
            "• Literacy rate, adult total (% of people ages 15 and above)\n",
            "  Code: SE.ADT.LITR.ZS\n",
            "\n",
            "• Literacy rate, youth (ages 15-24), gender parity index (GPI)\n",
            "  Code: SE.ADT.1524.LT.FM.ZS\n",
            "\n",
            "• Literacy rate, youth female (% of females ages 15-24)\n",
            "  Code: SE.ADT.1524.LT.FE.ZS\n",
            "\n",
            "• Literacy rate, youth male (% of males ages 15-24)\n",
            "  Code: SE.ADT.1524.LT.MA.ZS\n",
            "\n",
            "• Literacy rate, youth total (% of people ages 15-24)\n",
            "  Code: SE.ADT.1524.LT.ZS\n",
            "\n"
          ]
        }
      ],
      "source": [
        "# Search for literacy indicators\n",
        "literacy_indicators = df[df['Indicator Name'].str.contains('literacy', case=False, na=False)]\n",
        "\n",
        "print(f\"Found {literacy_indicators['Indicator Name'].nunique()} literacy indicators:\")\n",
        "print(\"\\n=== Available Literacy Indicators ===\")\n",
        "\n",
        "unique_literacy = literacy_indicators[['Indicator Name', 'Indicator Code']].drop_duplicates()\n",
        "for idx, row in unique_literacy.iterrows():\n",
        "    print(f\"• {row['Indicator Name']}\")\n",
        "    print(f\"  Code: {row['Indicator Code']}\")\n",
        "    print()\n"
      ]
    },
    {
      "cell_type": "raw",
      "metadata": {
        "vscode": {
          "languageId": "raw"
        }
      },
      "source": [
        "## 2. Data Coverage Analysis\n",
        "\n",
        "Now let's analyze the temporal coverage and data completeness for each literacy indicator.\n"
      ]
    },
    {
      "cell_type": "code",
      "execution_count": 8,
      "metadata": {},
      "outputs": [
        {
          "name": "stdout",
          "output_type": "stream",
          "text": [
            "=== Literacy Indicators Data Coverage Analysis ===\n",
            "\n",
            "📊 Literacy rate, adult female (% of females ages 15 and above)\n",
            "   Code: SE.ADT.LITR.FE.ZS\n",
            "   Period: 1981-2017 (37 years)\n",
            "   Data points: 27/111 (24.3%)\n",
            "   All countries covered: ✅ Yes\n",
            "   Missing data: 75.7%\n",
            "\n",
            "📊 Literacy rate, adult male (% of males ages 15 and above)\n",
            "   Code: SE.ADT.LITR.MA.ZS\n",
            "   Period: 1981-2017 (37 years)\n",
            "   Data points: 27/111 (24.3%)\n",
            "   All countries covered: ✅ Yes\n",
            "   Missing data: 75.7%\n",
            "\n",
            "📊 Literacy rate, adult total (% of people ages 15 and above)\n",
            "   Code: SE.ADT.LITR.ZS\n",
            "   Period: 1981-2017 (37 years)\n",
            "   Data points: 27/111 (24.3%)\n",
            "   All countries covered: ✅ Yes\n",
            "   Missing data: 75.7%\n",
            "\n",
            "📊 Literacy rate, youth (ages 15-24), gender parity index (GPI)\n",
            "   Code: SE.ADT.1524.LT.FM.ZS\n",
            "   Period: 1981-2017 (37 years)\n",
            "   Data points: 27/111 (24.3%)\n",
            "   All countries covered: ✅ Yes\n",
            "   Missing data: 75.7%\n",
            "\n",
            "📊 Literacy rate, youth female (% of females ages 15-24)\n",
            "   Code: SE.ADT.1524.LT.FE.ZS\n",
            "   Period: 1981-2017 (37 years)\n",
            "   Data points: 27/111 (24.3%)\n",
            "   All countries covered: ✅ Yes\n",
            "   Missing data: 75.7%\n",
            "\n",
            "📊 Literacy rate, youth male (% of males ages 15-24)\n",
            "   Code: SE.ADT.1524.LT.MA.ZS\n",
            "   Period: 1981-2017 (37 years)\n",
            "   Data points: 27/111 (24.3%)\n",
            "   All countries covered: ✅ Yes\n",
            "   Missing data: 75.7%\n",
            "\n",
            "📊 Literacy rate, youth total (% of people ages 15-24)\n",
            "   Code: SE.ADT.1524.LT.ZS\n",
            "   Period: 1981-2017 (37 years)\n",
            "   Data points: 27/111 (24.3%)\n",
            "   All countries covered: ✅ Yes\n",
            "   Missing data: 75.7%\n",
            "\n"
          ]
        }
      ],
      "source": [
        "def analyze_indicator_coverage(df, indicator_subset=None):\n",
        "    \"\"\"\n",
        "    Analyze data coverage for literacy indicators\n",
        "    \"\"\"\n",
        "    if indicator_subset is None:\n",
        "        indicator_subset = df\n",
        "    \n",
        "    results = []\n",
        "    year_columns_str = [str(year) for year in year_columns]\n",
        "    \n",
        "    for indicator_name in indicator_subset['Indicator Name'].unique():\n",
        "        indicator_data = indicator_subset[indicator_subset['Indicator Name'] == indicator_name]\n",
        "        indicator_code = indicator_data['Indicator Code'].iloc[0]\n",
        "        \n",
        "        # Transform to long format\n",
        "        indicator_long = indicator_data.melt(\n",
        "            id_vars=['Country Name', 'Country Code', 'Indicator Name', 'Indicator Code'],\n",
        "            value_vars=year_columns_str,\n",
        "            var_name='Year',\n",
        "            value_name='Value'\n",
        "        )\n",
        "        \n",
        "        # Clean the data\n",
        "        indicator_long['Year'] = indicator_long['Year'].astype(int)\n",
        "        indicator_long['Value'] = pd.to_numeric(indicator_long['Value'], errors='coerce')\n",
        "        indicator_clean = indicator_long.dropna(subset=['Value'])\n",
        "        \n",
        "        if len(indicator_clean) > 0:\n",
        "            year_range = indicator_clean['Year'].max() - indicator_clean['Year'].min() + 1\n",
        "            countries_with_data = indicator_clean['Country Name'].nunique()\n",
        "            total_data_points = len(indicator_clean)\n",
        "            \n",
        "            # Check if all three countries have data\n",
        "            countries_in_data = set(indicator_clean['Country Name'].unique())\n",
        "            all_countries = {'Bangladesh', 'India', 'Pakistan'}\n",
        "            has_all_countries = all_countries.issubset(countries_in_data)\n",
        "            \n",
        "            # Calculate data density\n",
        "            possible_points = countries_with_data * year_range\n",
        "            data_density = (total_data_points / possible_points) * 100 if possible_points > 0 else 0\n",
        "            \n",
        "            results.append({\n",
        "                'Indicator_Name': indicator_name,\n",
        "                'Indicator_Code': indicator_code,\n",
        "                'Year_Range': year_range,\n",
        "                'Min_Year': indicator_clean['Year'].min(),\n",
        "                'Max_Year': indicator_clean['Year'].max(),\n",
        "                'Countries_with_Data': countries_with_data,\n",
        "                'Has_All_Countries': has_all_countries,\n",
        "                'Total_Data_Points': total_data_points,\n",
        "                'Data_Density': round(data_density, 1),\n",
        "                'Possible_Points': possible_points\n",
        "            })\n",
        "    \n",
        "    return pd.DataFrame(results)\n",
        "\n",
        "# Analyze literacy indicators\n",
        "literacy_analysis = analyze_indicator_coverage(df, literacy_indicators)\n",
        "\n",
        "print(\"=== Literacy Indicators Data Coverage Analysis ===\\n\")\n",
        "for idx, row in literacy_analysis.iterrows():\n",
        "    print(f\"📊 {row['Indicator_Name']}\")\n",
        "    print(f\"   Code: {row['Indicator_Code']}\")\n",
        "    print(f\"   Period: {row['Min_Year']}-{row['Max_Year']} ({row['Year_Range']} years)\")\n",
        "    print(f\"   Data points: {row['Total_Data_Points']}/{row['Possible_Points']} ({row['Data_Density']}%)\")\n",
        "    print(f\"   All countries covered: {'✅ Yes' if row['Has_All_Countries'] else '❌ No'}\")\n",
        "    print(f\"   Missing data: {100 - row['Data_Density']:.1f}%\")\n",
        "    print()\n"
      ]
    },
    {
      "cell_type": "code",
      "execution_count": 9,
      "metadata": {},
      "outputs": [
        {
          "name": "stdout",
          "output_type": "stream",
          "text": [
            "=== CRITICAL DATA QUALITY ISSUES ===\n",
            "\n",
            "📈 TEMPORAL COVERAGE:\n",
            "   • Earliest data: 1981\n",
            "   • Latest data: 2017\n",
            "   • Average span: 37.0 years\n",
            "   • Required for long-term analysis: 40+ years\n",
            "   • Gap: 3.0 years SHORT\n",
            "\n",
            "📊 DATA COMPLETENESS:\n",
            "   • Average data density: 24.3%\n",
            "   • Average missing data: 75.7%\n",
            "   • Minimum acceptable density: 80%\n",
            "   • Status: ❌ INSUFFICIENT\n",
            "\n",
            "🌍 COUNTRY COVERAGE:\n",
            "   • All three countries (BD, IN, PK): ✅ Yes\n",
            "\n",
            "🔍 DETAILED BREAKDOWN:\n",
            "   • Total possible data points: 111\n",
            "   • Actual data points: 27\n",
            "   • Missing data points: 84\n",
            "   • Years of data per country: ~9.0 out of 37\n"
          ]
        }
      ],
      "source": [
        "# Detailed analysis of data gaps\n",
        "print(\"=== CRITICAL DATA QUALITY ISSUES ===\\n\")\n",
        "\n",
        "# Calculate key statistics\n",
        "avg_data_density = literacy_analysis['Data_Density'].mean()\n",
        "avg_year_range = literacy_analysis['Year_Range'].mean()\n",
        "min_year = literacy_analysis['Min_Year'].min()\n",
        "max_year = literacy_analysis['Max_Year'].max()\n",
        "\n",
        "print(f\"📈 TEMPORAL COVERAGE:\")\n",
        "print(f\"   • Earliest data: {min_year}\")\n",
        "print(f\"   • Latest data: {max_year}\")\n",
        "print(f\"   • Average span: {avg_year_range:.1f} years\")\n",
        "print(f\"   • Required for long-term analysis: 40+ years\")\n",
        "print(f\"   • Gap: {40 - avg_year_range:.1f} years SHORT\")\n",
        "\n",
        "print(f\"\\n📊 DATA COMPLETENESS:\")\n",
        "print(f\"   • Average data density: {avg_data_density:.1f}%\")\n",
        "print(f\"   • Average missing data: {100 - avg_data_density:.1f}%\")\n",
        "print(f\"   • Minimum acceptable density: 80%\")\n",
        "print(f\"   • Status: {'✅ ACCEPTABLE' if avg_data_density >= 80 else '❌ INSUFFICIENT'}\")\n",
        "\n",
        "print(f\"\\n🌍 COUNTRY COVERAGE:\")\n",
        "all_countries_covered = literacy_analysis['Has_All_Countries'].all()\n",
        "print(f\"   • All three countries (BD, IN, PK): {'✅ Yes' if all_countries_covered else '❌ No'}\")\n",
        "\n",
        "print(f\"\\n🔍 DETAILED BREAKDOWN:\")\n",
        "total_possible = 3 * avg_year_range  # 3 countries × years\n",
        "total_actual = literacy_analysis['Total_Data_Points'].iloc[0]  # All indicators have same coverage\n",
        "missing_count = total_possible - total_actual\n",
        "\n",
        "print(f\"   • Total possible data points: {total_possible:.0f}\")\n",
        "print(f\"   • Actual data points: {total_actual}\")\n",
        "print(f\"   • Missing data points: {missing_count:.0f}\")\n",
        "print(f\"   • Years of data per country: ~{total_actual/3:.1f} out of {avg_year_range:.0f}\")\n"
      ]
    },
    {
      "cell_type": "raw",
      "metadata": {
        "vscode": {
          "languageId": "raw"
        }
      },
      "source": [
        "## 3. Comparison with Selected Indicator\n",
        "\n",
        "Let's compare literacy indicators with the selected indicator (Adolescent Fertility Rate) to understand the decision criteria.\n"
      ]
    },
    {
      "cell_type": "code",
      "execution_count": 10,
      "metadata": {},
      "outputs": [
        {
          "name": "stdout",
          "output_type": "stream",
          "text": [
            "=== COMPARISON: Literacy vs Selected Indicator ===\n",
            "\n",
            "                           Metric  Literacy Indicators           Adolescent Fertility Rate\n",
            "                Data Span (Years)                   37                                  58\n",
            "       Meets 40+ Year Requirement ❌ No (3 years short) ✅ Yes (18 years beyond requirement)\n",
            "            Data Completeness (%)                24.3%                              100.0%\n",
            "                 Missing Data (%)                75.7%                                0.0%\n",
            "            All Countries Covered                ✅ Yes                               ✅ Yes\n",
            "Suitable for Time Series Analysis ❌ No (too many gaps)               ✅ Yes (complete data)\n",
            "\n",
            "🎯 KEY DIFFERENCES:\n",
            "   • Time span difference: +21 years in favor of selected indicator\n",
            "   • Data completeness difference: +75.7% in favor of selected indicator\n",
            "   • Reliability gap: Selected indicator has 312% better data quality\n"
          ]
        }
      ],
      "source": [
        "# Analyze the selected indicator for comparison\n",
        "selected_indicator_name = \"Adolescent fertility rate (births per 1,000 women ages 15-19)\"\n",
        "selected_indicator = df[df['Indicator Name'] == selected_indicator_name]\n",
        "\n",
        "if not selected_indicator.empty:\n",
        "    selected_analysis = analyze_indicator_coverage(df, selected_indicator)\n",
        "    \n",
        "    print(\"=== COMPARISON: Literacy vs Selected Indicator ===\\n\")\n",
        "    \n",
        "    # Create comparison table\n",
        "    comparison_data = {\n",
        "        'Metric': [\n",
        "            'Data Span (Years)',\n",
        "            'Meets 40+ Year Requirement',\n",
        "            'Data Completeness (%)',\n",
        "            'Missing Data (%)',\n",
        "            'All Countries Covered',\n",
        "            'Suitable for Time Series Analysis'\n",
        "        ],\n",
        "        'Literacy Indicators': [\n",
        "            f\"{avg_year_range:.0f}\",\n",
        "            \"❌ No (3 years short)\",\n",
        "            f\"{avg_data_density:.1f}%\",\n",
        "            f\"{100 - avg_data_density:.1f}%\",\n",
        "            \"✅ Yes\",\n",
        "            \"❌ No (too many gaps)\"\n",
        "        ],\n",
        "        'Adolescent Fertility Rate': [\n",
        "            f\"{selected_analysis['Year_Range'].iloc[0]}\",\n",
        "            \"✅ Yes (18 years beyond requirement)\",\n",
        "            f\"{selected_analysis['Data_Density'].iloc[0]}%\",\n",
        "            f\"{100 - selected_analysis['Data_Density'].iloc[0]:.1f}%\",\n",
        "            \"✅ Yes\",\n",
        "            \"✅ Yes (complete data)\"\n",
        "        ]\n",
        "    }\n",
        "    \n",
        "    comparison_df = pd.DataFrame(comparison_data)\n",
        "    print(comparison_df.to_string(index=False))\n",
        "    \n",
        "    print(f\"\\n🎯 KEY DIFFERENCES:\")\n",
        "    year_diff = selected_analysis['Year_Range'].iloc[0] - avg_year_range\n",
        "    density_diff = selected_analysis['Data_Density'].iloc[0] - avg_data_density\n",
        "    \n",
        "    print(f\"   • Time span difference: +{year_diff:.0f} years in favor of selected indicator\")\n",
        "    print(f\"   • Data completeness difference: +{density_diff:.1f}% in favor of selected indicator\")\n",
        "    print(f\"   • Reliability gap: Selected indicator has {density_diff/avg_data_density*100:.0f}% better data quality\")\n",
        "\n",
        "else:\n",
        "    print(\"Selected indicator not found in dataset.\")\n"
      ]
    },
    {
      "cell_type": "raw",
      "metadata": {
        "vscode": {
          "languageId": "raw"
        }
      },
      "source": [
        "## 4. Statistical Implications and Alternative Approaches\n"
      ]
    },
    {
      "cell_type": "code",
      "execution_count": 12,
      "metadata": {},
      "outputs": [
        {
          "name": "stdout",
          "output_type": "stream",
          "text": [
            "=== STATISTICAL IMPLICATIONS OF MISSING DATA ===\n",
            "\n",
            "🔍 IMPACT ON ANALYSIS QUALITY:\n",
            "\n",
            "1. TIME SERIES ANALYSIS:\n",
            "   ❌ Irregular gaps prevent smooth trend detection\n",
            "   ❌ Missing data reduces statistical power\n",
            "   ❌ Interpolation may introduce bias\n",
            "   ❌ Seasonal/cyclical patterns cannot be identified\n",
            "\n",
            "2. COMPARATIVE ANALYSIS:\n",
            "   ❌ Different countries have data for different years\n",
            "   ❌ Difficult to compare trends across countries\n",
            "   ❌ Policy impact assessment becomes unreliable\n",
            "\n",
            "3. STATISTICAL TESTING:\n",
            "   ❌ Reduced degrees of freedom\n",
            "   ❌ Lower confidence in significance tests\n",
            "   ❌ Potential for Type II errors (false negatives)\n"
          ]
        }
      ],
      "source": [
        "print(\"=== STATISTICAL IMPLICATIONS OF MISSING DATA ===\\n\")\n",
        "\n",
        "print(\"🔍 IMPACT ON ANALYSIS QUALITY:\")\n",
        "print(\"\\n1. TIME SERIES ANALYSIS:\")\n",
        "print(\"   ❌ Irregular gaps prevent smooth trend detection\")\n",
        "print(\"   ❌ Missing data reduces statistical power\")\n",
        "print(\"   ❌ Interpolation may introduce bias\")\n",
        "print(\"   ❌ Seasonal/cyclical patterns cannot be identified\")\n",
        "\n",
        "print(\"\\n2. COMPARATIVE ANALYSIS:\")\n",
        "print(\"   ❌ Different countries have data for different years\")\n",
        "print(\"   ❌ Difficult to compare trends across countries\")\n",
        "print(\"   ❌ Policy impact assessment becomes unreliable\")\n",
        "\n",
        "print(\"\\n3. STATISTICAL TESTING:\")\n",
        "print(\"   ❌ Reduced degrees of freedom\")\n",
        "print(\"   ❌ Lower confidence in significance tests\")\n",
        "print(\"   ❌ Potential for Type II errors (false negatives)\")\n"
      ]
    },
    {
      "cell_type": "code",
      "execution_count": 13,
      "metadata": {},
      "outputs": [
        {
          "name": "stdout",
          "output_type": "stream",
          "text": [
            "\n",
            "=== ALTERNATIVE APPROACHES FOR FUTURE RESEARCH ===\n",
            "\n",
            "📈 RECOMMENDED SOLUTIONS:\n",
            "\n",
            "1. DATA TRIANGULATION:\n",
            "   • Combine World Bank, UNESCO, and national statistics\n",
            "   • Use multiple sources to fill gaps\n",
            "   • Cross-validate between sources\n",
            "\n",
            "2. PROXY INDICATORS:\n",
            "   • Primary school enrollment rates\n",
            "   • Secondary school completion rates\n",
            "   • Educational expenditure as % of GDP\n",
            "\n",
            "3. ALTERNATIVE TIME FRAMES:\n",
            "   • Focus on 1990-2017 period (better data availability)\n",
            "   • Analyze specific time points with complete data\n",
            "   • Use cross-sectional analysis for recent years\n",
            "\n",
            "4. ADVANCED STATISTICAL METHODS:\n",
            "   • Multiple imputation techniques\n",
            "   • Bayesian estimation with informative priors\n",
            "   • Machine learning-based prediction models\n"
          ]
        }
      ],
      "source": [
        "\n",
        "print(\"\\n=== ALTERNATIVE APPROACHES FOR FUTURE RESEARCH ===\\n\")\n",
        "\n",
        "print(\"📈 RECOMMENDED SOLUTIONS:\")\n",
        "print(\"\\n1. DATA TRIANGULATION:\")\n",
        "print(\"   • Combine World Bank, UNESCO, and national statistics\")\n",
        "print(\"   • Use multiple sources to fill gaps\")\n",
        "print(\"   • Cross-validate between sources\")\n",
        "\n",
        "print(\"\\n2. PROXY INDICATORS:\")\n",
        "print(\"   • Primary school enrollment rates\")\n",
        "print(\"   • Secondary school completion rates\")\n",
        "print(\"   • Educational expenditure as % of GDP\")\n",
        "\n",
        "print(\"\\n3. ALTERNATIVE TIME FRAMES:\")\n",
        "print(\"   • Focus on 1990-2017 period (better data availability)\")\n",
        "print(\"   • Analyze specific time points with complete data\")\n",
        "print(\"   • Use cross-sectional analysis for recent years\")\n",
        "\n",
        "print(\"\\n4. ADVANCED STATISTICAL METHODS:\")\n",
        "print(\"   • Multiple imputation techniques\")\n",
        "print(\"   • Bayesian estimation with informative priors\")\n",
        "print(\"   • Machine learning-based prediction models\")\n"
      ]
    },
    {
      "cell_type": "markdown",
      "metadata": {
        "vscode": {
          "languageId": "raw"
        }
      },
      "source": [
        "## 5. Summary and Conclusions\n",
        "\n",
        "### Key Findings\n",
        "\n",
        "1. **Data Availability Issues**: Literacy indicators span only 37 years (1981-2017), falling 3 years short of our 40-year requirement for long-term analysis.\n",
        "\n",
        "2. **Severe Data Incompleteness**: With only 24.3% data completeness, literacy indicators have 75.7% missing data, making robust statistical analysis challenging.\n",
        "\n",
        "3. **Comparison with Selected Indicator**: The chosen Adolescent Fertility Rate has 100% data completeness over 58 years, providing a clear advantage for time series analysis.\n",
        "\n",
        "4. **Statistical Implications**: Missing data would compromise trend detection, comparative analysis, and forecasting capabilities.\n",
        "\n",
        "### Decision Rationale\n",
        "\n",
        "The exclusion of literacy indicators from our main analysis is justified by:\n",
        "- Insufficient temporal coverage (37 vs 40+ years required)\n",
        "- Poor data quality (24.3% vs 80% minimum threshold)\n",
        "- Risk of unreliable statistical conclusions\n",
        "- Availability of superior alternatives\n",
        "\n",
        "### Research Implications\n",
        "\n",
        "While literacy is undoubtedly crucial for development analysis, the current dataset limitations necessitate this exclusion. Future research should:\n",
        "- Seek enhanced datasets with better literacy coverage\n",
        "- Consider alternative education indicators\n",
        "- Acknowledge this limitation in current findings\n",
        "\n",
        "This analysis demonstrates the importance of data quality assessment in indicator selection and provides a transparent rationale for research decisions.\n"
      ]
    }
  ],
  "metadata": {
    "kernelspec": {
      "display_name": "Python 3 (ipykernel)",
      "language": "python",
      "name": "python3"
    },
    "language_info": {
      "codemirror_mode": {
        "name": "ipython",
        "version": 3
      },
      "file_extension": ".py",
      "mimetype": "text/x-python",
      "name": "python",
      "nbconvert_exporter": "python",
      "pygments_lexer": "ipython3",
      "version": "3.11.6"
    }
  },
  "nbformat": 4,
  "nbformat_minor": 2
}
