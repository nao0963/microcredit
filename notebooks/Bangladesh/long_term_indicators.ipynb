{
  "cells": [
    {
      "cell_type": "markdown",
      "metadata": {
        "vscode": {
          "languageId": "raw"
        }
      },
      "source": [
        "# Data Preparation - Long-term Indicator\n",
        "## Pakistan, India, and Bangladesh (40+ Years)\n",
        "\n",
        "### Overview\n",
        "This notebook prepares data for Pakistan, India, and Bangladesh over a period of 40+ years. This is Part 1 which focuses on data loading, filtering, and identifying indicators with comprehensive historical data.\n",
        "\n",
        "### Objectives (Part 1)\n",
        "1. Load and explore the filtered dataset\n",
        "2. Identify indicators with 40+ years of data availability\n",
        "3. Filter for health and development related indicators\n",
        "4. Create the `long_term` DataFrame for analysis\n"
      ]
    },
    {
      "cell_type": "markdown",
      "metadata": {
        "vscode": {
          "languageId": "raw"
        }
      },
      "source": [
        "In order to perform data analysis for objectives above, I imported necessary libraries and set up plotting preferences for visualization first.\n"
      ]
    },
    {
      "cell_type": "code",
      "execution_count": 1,
      "metadata": {},
      "outputs": [
        {
          "name": "stdout",
          "output_type": "stream",
          "text": [
            "Libraries loaded successfully\n"
          ]
        }
      ],
      "source": [
        "# Import required libraries\n",
        "import pandas as pd\n",
        "import numpy as np\n",
        "import matplotlib.pyplot as plt\n",
        "import seaborn as sns\n",
        "from datetime import datetime\n",
        "import warnings\n",
        "from scipy import stats\n",
        "from sklearn.preprocessing import StandardScaler\n",
        "from sklearn.decomposition import PCA\n",
        "import matplotlib.dates as mdates\n",
        "warnings.filterwarnings('ignore')\n",
        "\n",
        "# Set up plotting preferences\n",
        "plt.style.use('default')\n",
        "sns.set_palette(\"Set2\")\n",
        "plt.rcParams['figure.figsize'] = (14, 8)\n",
        "plt.rcParams['font.size'] = 11\n",
        "\n",
        "print(\"Libraries loaded successfully\")\n"
      ]
    },
    {
      "cell_type": "raw",
      "metadata": {
        "vscode": {
          "languageId": "raw"
        }
      },
      "source": [
        "Since the dataset was too large with uncessary data, I filtered the dataset to only include data for Pakistan, India, and Bangladesh. This filtered dataset has now 4797 rows and 64 colums with unique 1599 indicators I can look into.\n"
      ]
    },
    {
      "cell_type": "code",
      "execution_count": 2,
      "metadata": {},
      "outputs": [
        {
          "name": "stdout",
          "output_type": "stream",
          "text": [
            "Dataset shape: (4797, 64)\n",
            "Countries: ['Bangladesh' 'India' 'Pakistan']\n",
            "Total indicators: 1599\n",
            "Year range in dataset: 1960 - 2018\n",
            "Total years available: 59 years\n",
            "Looking for indicators with data from 1978 or earlier to 2018\n"
          ]
        }
      ],
      "source": [
        "# Load the filtered dataset\n",
        "df = pd.read_csv('/home/jovyan/work/data/processed/filtered_data.csv')\n",
        "\n",
        "print(f\"Dataset shape: {df.shape}\")\n",
        "print(f\"Countries: {df['Country Name'].unique()}\")\n",
        "print(f\"Total indicators: {df['Indicator Name'].nunique()}\")\n",
        "\n",
        "# Identify year columns\n",
        "year_columns = [col for col in df.columns if col.isdigit()]\n",
        "year_columns = sorted([int(year) for year in year_columns])\n",
        "print(f\"Year range in dataset: {min(year_columns)} - {max(year_columns)}\")\n",
        "print(f\"Total years available: {len(year_columns)} years\")\n",
        "\n",
        "# Calculate the cutoff year for 40+ years of data\n",
        "current_year = max(year_columns)\n",
        "cutoff_year = current_year - 40\n",
        "print(f\"Looking for indicators with data from {cutoff_year} or earlier to {current_year}\")\n",
        "\n",
        "year_columns_str = [str(year) for year in year_columns]\n"
      ]
    },
    {
      "cell_type": "raw",
      "metadata": {
        "vscode": {
          "languageId": "raw"
        }
      },
      "source": [
        "Among all the indicators available, I selected ones that span over 40 years for long-term analysis to check if microcredit had any significant impact on Bangladesh compared to two other neighboring countries, Pakistan and India. The code below is for melting data to long format and filtering out indicators that span over 40 years, which is now down to 798(indicators) in total.\n"
      ]
    },
    {
      "cell_type": "code",
      "execution_count": 4,
      "metadata": {},
      "outputs": [
        {
          "name": "stdout",
          "output_type": "stream",
          "text": [
            "Analyzing data coverage for all indicators...\n",
            "Found 798 indicators with 40+ years of data for all three countries:\n",
            "                                                          Indicator_Name  Year_Range  Min_Year  Max_Year  Data_Density\n",
            "50         Adolescent fertility rate (births per 1,000 women ages 15-19)          58      1960      2017         100.0\n",
            "56                    Age dependency ratio (% of working-age population)          58      1960      2017         100.0\n",
            "57               Age dependency ratio, old (% of working-age population)          58      1960      2017         100.0\n",
            "58             Age dependency ratio, young (% of working-age population)          58      1960      2017         100.0\n",
            "70            Agriculture, forestry, and fishing, value added (% of GDP)          58      1960      2017         100.0\n",
            "72   Agriculture, forestry, and fishing, value added (constant 2010 US$)          58      1960      2017         100.0\n",
            "73        Agriculture, forestry, and fishing, value added (constant LCU)          58      1960      2017         100.0\n",
            "74         Agriculture, forestry, and fishing, value added (current LCU)          58      1960      2017         100.0\n",
            "75         Agriculture, forestry, and fishing, value added (current US$)          58      1960      2017         100.0\n",
            "134                                 Birth rate, crude (per 1,000 people)          58      1960      2017         100.0\n"
          ]
        }
      ],
      "source": [
        "# Function to analyze data availability for each indicator\n",
        "def analyze_indicator_coverage(df, min_years=40):\n",
        "    \"\"\"\n",
        "    Analyze data coverage for each indicator across all countries\n",
        "    \"\"\"\n",
        "    results = []\n",
        "    \n",
        "    for indicator_name in df['Indicator Name'].unique():\n",
        "        indicator_data = df[df['Indicator Name'] == indicator_name]\n",
        "        indicator_code = indicator_data['Indicator Code'].iloc[0]\n",
        "        \n",
        "        # Melt the data to long format\n",
        "        indicator_long = indicator_data.melt(\n",
        "            id_vars=['Country Name', 'Country Code', 'Indicator Name', 'Indicator Code'],\n",
        "            value_vars=year_columns_str,\n",
        "            var_name='Year',\n",
        "            value_name='Value'\n",
        "        )\n",
        "        \n",
        "        # Convert to numeric and remove missing values\n",
        "        indicator_long['Year'] = indicator_long['Year'].astype(int)\n",
        "        indicator_long['Value'] = pd.to_numeric(indicator_long['Value'], errors='coerce')\n",
        "        indicator_clean = indicator_long.dropna(subset=['Value'])\n",
        "        \n",
        "        if len(indicator_clean) > 0:\n",
        "            # Calculate coverage statistics\n",
        "            year_range = indicator_clean['Year'].max() - indicator_clean['Year'].min() + 1\n",
        "            countries_with_data = indicator_clean['Country Name'].nunique()\n",
        "            total_data_points = len(indicator_clean)\n",
        "            \n",
        "            # Check if all three countries have data\n",
        "            countries_in_data = set(indicator_clean['Country Name'].unique())\n",
        "            all_countries = {'Bangladesh', 'India', 'Pakistan'}\n",
        "            has_all_countries = all_countries.issubset(countries_in_data)\n",
        "            \n",
        "            # Calculate data density (percentage of possible data points)\n",
        "            possible_points = countries_with_data * year_range\n",
        "            data_density = (total_data_points / possible_points) * 100 if possible_points > 0 else 0\n",
        "            \n",
        "            results.append({\n",
        "                'Indicator_Name': indicator_name,\n",
        "                'Indicator_Code': indicator_code,\n",
        "                'Year_Range': year_range,\n",
        "                'Min_Year': indicator_clean['Year'].min(),\n",
        "                'Max_Year': indicator_clean['Year'].max(),\n",
        "                'Countries_with_Data': countries_with_data,\n",
        "                'Has_All_Countries': has_all_countries,\n",
        "                'Total_Data_Points': total_data_points,\n",
        "                'Data_Density': round(data_density, 1)\n",
        "            })\n",
        "    \n",
        "    results_df = pd.DataFrame(results)\n",
        "    \n",
        "    # Filter for indicators with 40+ years and all countries\n",
        "    long_term_indicators = results_df[\n",
        "        (results_df['Year_Range'] >= min_years) & \n",
        "        (results_df['Has_All_Countries'] == True)\n",
        "    ].sort_values(['Year_Range', 'Data_Density'], ascending=[False, False])\n",
        "    \n",
        "    return results_df, long_term_indicators\n",
        "\n",
        "# Analyze data coverage\n",
        "print(\"Analyzing data coverage for all indicators...\")\n",
        "all_indicators, long_term = analyze_indicator_coverage(df, min_years=40)\n",
        "\n",
        "print(f\"Found {len(long_term)} indicators with 40+ years of data for all three countries:\")\n",
        "print(long_term[['Indicator_Name', 'Year_Range', 'Min_Year', 'Max_Year', 'Data_Density']].head(10).to_string())\n"
      ]
    },
    {
      "cell_type": "raw",
      "metadata": {
        "vscode": {
          "languageId": "raw"
        }
      },
      "source": [
        "## Data Preparation Complete ✅\n",
        "\n",
        "The `long_term` DataFrame has been successfully created with 798 indicators that span over 40 years for all three countries (Bangladesh, India, and Pakistan).\n",
        "\n",
        "**Key Variables Created:**\n",
        "- `df`: Original filtered dataset\n",
        "- `all_indicators`: Complete analysis results for all indicators\n",
        "- `long_term`: Filtered indicators with 40+ years of data for all countries\n",
        "- `year_columns_str`: List of year columns as strings\n",
        "\n",
        "**Next Steps:**\n",
        "- Use `notebooks/long_term_health_indicator_analysis_part2.ipynb` for:\n",
        "  - Health indicator selection and analysis\n",
        "  - Time series visualization\n",
        "  - Statistical analysis and trend detection\n",
        "  - Comprehensive reporting\n"
      ]
    }
  ],
  "metadata": {
    "kernelspec": {
      "display_name": "Python 3 (ipykernel)",
      "language": "python",
      "name": "python3"
    },
    "language_info": {
      "codemirror_mode": {
        "name": "ipython",
        "version": 3
      },
      "file_extension": ".py",
      "mimetype": "text/x-python",
      "name": "python",
      "nbconvert_exporter": "python",
      "pygments_lexer": "ipython3",
      "version": "3.11.6"
    }
  },
  "nbformat": 4,
  "nbformat_minor": 2
}
