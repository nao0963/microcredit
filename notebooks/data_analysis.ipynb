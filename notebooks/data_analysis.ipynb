{
 "cells": [
  {
   "cell_type": "code",
   "execution_count": null,
   "metadata": {},
   "outputs": [],
   "source": [
    "import pandas as pd\n",
    "\n",
    "# Read large file in chunks for memory efficiency\n",
    "chunk_size = 10000\n",
    "filtered_data = []\n",
    "\n",
    "for chunk in pd.read_csv('data/raw/world_bank/wdi-csv-zip-57-mb-/WDIData.csv', chunksize=chunk_size):\n",
    "    # Filter for Bangladesh, India, and Pakistan data only\n",
    "    filtered_chunk = chunk[chunk['Country Name'].isin(['Bangladesh', 'India', 'Pakistan'])]\n",
    "    if not filtered_chunk.empty:\n",
    "        filtered_data.append(filtered_chunk)\n",
    "\n",
    "# Combine all chunks and save\n",
    "if filtered_data:\n",
    "    final_df = pd.concat(filtered_data, ignore_index=True)\n",
    "    final_df.to_csv('data/processed/filtered_data.csv', index=False)\n",
    "    print(f\"Filtered data saved with {len(final_df)} rows\")"
   ]
  },
  {
   "cell_type": "code",
   "execution_count": 4,
   "metadata": {},
   "outputs": [],
   "source": [
    "# Load the filtered data\n",
    "file_path = '/home/jovyan/work/data/processed/filtered_data.csv'\n",
    "df = pd.read_csv(file_path)\n",
    "\n",
    "# Search for GDP, mortality, and literacy indicators\n",
    "gdp_indicators = df[df['Indicator Name'].str.contains('GDP', case=False, na=False)]\n",
    "mortality_indicators = df[df['Indicator Name'].str.contains('mortality', case=False, na=False)]\n",
    "literacy_indicators = df[df['Indicator Name'].str.contains('literacy', case=False, na=False)]"
   ]
  },
  {
   "cell_type": "code",
   "execution_count": null,
   "metadata": {},
   "outputs": [],
   "source": [
    "\n",
    "print('--- GDP Indicators ---')\n",
    "print(gdp_indicators[['Indicator Name', 'Indicator Code']].drop_duplicates().to_string())\n"
   ]
  },
  {
   "cell_type": "code",
   "execution_count": 6,
   "metadata": {},
   "outputs": [
    {
     "name": "stdout",
     "output_type": "stream",
     "text": [
      "\n",
      "--- Mortality Indicators ---\n",
      "                                                                                                                  Indicator Name     Indicator Code\n",
      "807                                                         Maternal mortality ratio (modeled estimate, per 100,000 live births)        SH.STA.MMRT\n",
      "808                                                        Maternal mortality ratio (national estimate, per 100,000 live births)     SH.STA.MMRT.NE\n",
      "849                                                                 Mortality caused by road traffic injury (per 100,000 people)     SH.STA.TRAF.P5\n",
      "850                                                 Mortality from CVD, cancer, diabetes or CRD between exact ages 30 and 70 (%)     SH.DYN.NCOM.ZS\n",
      "851                                         Mortality from CVD, cancer, diabetes or CRD between exact ages 30 and 70, female (%)  SH.DYN.NCOM.FE.ZS\n",
      "852                                           Mortality from CVD, cancer, diabetes or CRD between exact ages 30 and 70, male (%)  SH.DYN.NCOM.MA.ZS\n",
      "853                  Mortality rate attributed to household and ambient air pollution, age-standardized (per 100,000 population)     SH.STA.AIRP.P5\n",
      "854   Mortality rate attributed to household and ambient air pollution, age-standardized, female (per 100,000 female population)  SH.STA.AIRP.FE.P5\n",
      "855       Mortality rate attributed to household and ambient air pollution, age-standardized, male (per 100,000 male population)  SH.STA.AIRP.MA.P5\n",
      "856                                                Mortality rate attributed to unintentional poisoning (per 100,000 population)     SH.STA.POIS.P5\n",
      "857                                 Mortality rate attributed to unintentional poisoning, female (per 100,000 female population)  SH.STA.POIS.P5.FE\n",
      "858                                     Mortality rate attributed to unintentional poisoning, male (per 100,000 male population)  SH.STA.POIS.P5.MA\n",
      "859                    Mortality rate attributed to unsafe water, unsafe sanitation and lack of hygiene (per 100,000 population)     SH.STA.WASH.P5\n",
      "860                                                                      Mortality rate, adult, female (per 1,000 female adults)     SP.DYN.AMRT.FE\n",
      "861                                                                          Mortality rate, adult, male (per 1,000 male adults)     SP.DYN.AMRT.MA\n",
      "862                                                                               Mortality rate, infant (per 1,000 live births)     SP.DYN.IMRT.IN\n",
      "863                                                                       Mortality rate, infant, female (per 1,000 live births)  SP.DYN.IMRT.FE.IN\n",
      "864                                                                         Mortality rate, infant, male (per 1,000 live births)  SP.DYN.IMRT.MA.IN\n",
      "865                                                                             Mortality rate, neonatal (per 1,000 live births)        SH.DYN.NMRT\n",
      "866                                                                              Mortality rate, under-5 (per 1,000 live births)        SH.DYN.MORT\n",
      "867                                                                      Mortality rate, under-5, female (per 1,000 live births)     SH.DYN.MORT.FE\n",
      "868                                                                        Mortality rate, under-5, male (per 1,000 live births)     SH.DYN.MORT.MA\n",
      "1433                                                                             Suicide mortality rate (per 100,000 population)     SH.STA.SUIC.P5\n",
      "1434                                                              Suicide mortality rate, female (per 100,000 female population)  SH.STA.SUIC.FE.P5\n",
      "1435                                                                  Suicide mortality rate, male (per 100,000 male population)  SH.STA.SUIC.MA.P5\n"
     ]
    }
   ],
   "source": [
    "\n",
    "print('\\n--- Mortality Indicators ---')\n",
    "print(mortality_indicators[['Indicator Name', 'Indicator Code']].drop_duplicates().to_string())\n"
   ]
  },
  {
   "cell_type": "code",
   "execution_count": 5,
   "metadata": {},
   "outputs": [
    {
     "name": "stdout",
     "output_type": "stream",
     "text": [
      "\n",
      "--- Literacy Indicators ---\n",
      "                                                   Indicator Name        Indicator Code\n",
      "773  Literacy rate, adult female (% of females ages 15 and above)     SE.ADT.LITR.FE.ZS\n",
      "774      Literacy rate, adult male (% of males ages 15 and above)     SE.ADT.LITR.MA.ZS\n",
      "775    Literacy rate, adult total (% of people ages 15 and above)        SE.ADT.LITR.ZS\n",
      "776  Literacy rate, youth (ages 15-24), gender parity index (GPI)  SE.ADT.1524.LT.FM.ZS\n",
      "777         Literacy rate, youth female (% of females ages 15-24)  SE.ADT.1524.LT.FE.ZS\n",
      "778             Literacy rate, youth male (% of males ages 15-24)  SE.ADT.1524.LT.MA.ZS\n",
      "779           Literacy rate, youth total (% of people ages 15-24)     SE.ADT.1524.LT.ZS\n"
     ]
    }
   ],
   "source": [
    "\n",
    "print('\\n--- Literacy Indicators ---')\n",
    "print(literacy_indicators[['Indicator Name', 'Indicator Code']].drop_duplicates().to_string())\n"
   ]
  }
 ],
 "metadata": {
  "kernelspec": {
   "display_name": "Python 3 (ipykernel)",
   "language": "python",
   "name": "python3"
  },
  "language_info": {
   "codemirror_mode": {
    "name": "ipython",
    "version": 3
   },
   "file_extension": ".py",
   "mimetype": "text/x-python",
   "name": "python",
   "nbconvert_exporter": "python",
   "pygments_lexer": "ipython3",
   "version": "3.11.6"
  }
 },
 "nbformat": 4,
 "nbformat_minor": 2
}
